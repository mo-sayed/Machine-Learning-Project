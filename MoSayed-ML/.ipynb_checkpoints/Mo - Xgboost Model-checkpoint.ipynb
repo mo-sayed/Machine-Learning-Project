{
 "cells": [
  {
   "cell_type": "markdown",
   "metadata": {},
   "source": [
    "## Iowa Housing Prices\n",
    "\n",
    "Team Name: **Drop a Feature like its hot**\n",
    "\n",
    "Team Members:\n",
    "- Mohamad Sayed\n",
    "- Andrew Hoffman\n",
    "- Yasuhiro Shinohara\n",
    "\n",
    "<a href=\"https://towardsdatascience.com/https-medium-com-vishalmorde-xgboost-algorithm-long-she-may-rein-edd9f99be63d\">Xgboost</a>: Optimized Gradient Boosting Algorithm through parallel processing, tree-pruning, handling missing values, and regularization to avoid overfitting/bias*\n"
   ]
  },
  {
   "cell_type": "markdown",
   "metadata": {},
   "source": [
    "#### Data Preparation"
   ]
  },
  {
   "cell_type": "code",
   "execution_count": 2,
   "metadata": {},
   "outputs": [],
   "source": [
    "# Import packages\n",
    "import pandas as pd\n",
    "import numpy as np\n",
    "import seaborn as sns\n",
    "\n",
    "%matplotlib inline\n",
    "import matplotlib.pyplot as plt\n",
    "\n",
    "from sklearn.model_selection import KFold, cross_val_score, StratifiedKFold \n",
    "from sklearn.model_selection import train_test_split\n",
    "from sklearn.model_selection import GridSearchCV, RandomizedSearchCV\n",
    "import sklearn.model_selection as ms\n",
    "\n",
    "from sklearn.metrics import r2_score, mean_squared_error, mean_squared_error, make_scorer\n",
    "\n",
    "from xgboost import XGBRegressor, XGBClassifier\n"
   ]
  },
  {
   "cell_type": "code",
   "execution_count": 3,
   "metadata": {},
   "outputs": [],
   "source": [
    "# Loading train and test data sets\n",
    "df_test = pd.read_csv(\"output_df_test.csv\")\n",
    "df_train = pd.read_csv(\"output_df_train.csv\")"
   ]
  },
  {
   "cell_type": "code",
   "execution_count": 4,
   "metadata": {},
   "outputs": [
    {
     "name": "stdout",
     "output_type": "stream",
     "text": [
      "(1450, 47)\n",
      "(1459, 46)\n"
     ]
    }
   ],
   "source": [
    "print(df_train.shape)\n",
    "print(df_test.shape)"
   ]
  },
  {
   "cell_type": "code",
   "execution_count": 5,
   "metadata": {},
   "outputs": [],
   "source": [
    "# Drop Id column\n",
    "df_test_Id = pd.read_csv(\"output_df_test.csv\").Id\n",
    "df_train = df_train.drop('Id', axis = 1)\n",
    "df_test = df_test.drop('Id', axis = 1)"
   ]
  },
  {
   "cell_type": "code",
   "execution_count": 6,
   "metadata": {},
   "outputs": [],
   "source": [
    "df_train = pd.get_dummies(df_train, drop_first = True)\n",
    "df_test = pd.get_dummies(df_test, drop_first = True)"
   ]
  },
  {
   "cell_type": "code",
   "execution_count": 7,
   "metadata": {},
   "outputs": [],
   "source": [
    "X = df_train.loc[:, df_train.columns !='SalePrice']\n",
    "Y = np.log(df_train[['SalePrice']])"
   ]
  },
  {
   "cell_type": "code",
   "execution_count": 8,
   "metadata": {},
   "outputs": [],
   "source": [
    "# Split the train and test data sets\n",
    "X_train, X_test, Y_train, Y_test = train_test_split(X, Y, test_size = 0.2, random_state = 1)"
   ]
  },
  {
   "cell_type": "code",
   "execution_count": 9,
   "metadata": {},
   "outputs": [],
   "source": [
    "#  Cross validation for 5 and 10 folds\n",
    "cv5 = KFold(n_splits = 5, random_state = 1, shuffle = True)\n",
    "cv10 = KFold(n_splits = 10, random_state = 1, shuffle = True)"
   ]
  },
  {
   "cell_type": "markdown",
   "metadata": {},
   "source": [
    "#### Fitting Xgboost Model"
   ]
  },
  {
   "cell_type": "code",
   "execution_count": 10,
   "metadata": {},
   "outputs": [
    {
     "data": {
      "text/plain": [
       "XGBRegressor(base_score=None, booster=None, colsample_bylevel=None,\n",
       "             colsample_bynode=None, colsample_bytree=None, gamma=None,\n",
       "             gpu_id=None, importance_type='gain', interaction_constraints=None,\n",
       "             learning_rate=None, max_delta_step=None, max_depth=None,\n",
       "             min_child_weight=None, missing=nan, monotone_constraints=None,\n",
       "             n_estimators=100, n_jobs=None, num_parallel_tree=None,\n",
       "             objective='reg:squarederror', random_state=1, reg_alpha=None,\n",
       "             reg_lambda=None, scale_pos_weight=None, subsample=None,\n",
       "             tree_method=None, validate_parameters=False, verbosity=None)"
      ]
     },
     "execution_count": 10,
     "metadata": {},
     "output_type": "execute_result"
    }
   ],
   "source": [
    "#set up xgb with random parameter\n",
    "\n",
    "xgb = XGBRegressor()\n",
    "xgb.set_params(random_state = 1)"
   ]
  },
  {
   "cell_type": "code",
   "execution_count": 11,
   "metadata": {},
   "outputs": [
    {
     "data": {
      "text/plain": [
       "XGBRegressor(base_score=0.5, booster=None, colsample_bylevel=1,\n",
       "             colsample_bynode=1, colsample_bytree=1, gamma=0, gpu_id=-1,\n",
       "             importance_type='gain', interaction_constraints=None,\n",
       "             learning_rate=0.300000012, max_delta_step=0, max_depth=6,\n",
       "             min_child_weight=1, missing=nan, monotone_constraints=None,\n",
       "             n_estimators=100, n_jobs=0, num_parallel_tree=1,\n",
       "             objective='reg:squarederror', random_state=123, reg_alpha=0,\n",
       "             reg_lambda=1, scale_pos_weight=1, subsample=1, tree_method=None,\n",
       "             validate_parameters=False, verbosity=None)"
      ]
     },
     "execution_count": 11,
     "metadata": {},
     "output_type": "execute_result"
    }
   ],
   "source": [
    "#set up xgb with random parameter\n",
    "xgb = XGBRegressor()\n",
    "xgb.set_params(random_state=123)\n",
    "xgb.fit(X, Y)"
   ]
  },
  {
   "cell_type": "code",
   "execution_count": 12,
   "metadata": {},
   "outputs": [
    {
     "name": "stdout",
     "output_type": "stream",
     "text": [
      "R^2 for train set is: 0.999313\n",
      "R^2 for train set is: 0.999176\n"
     ]
    }
   ],
   "source": [
    "# R-squared for train and test sets for xgboost model\n",
    "\n",
    "print(\"R^2 for train set is: %.6f\" % xgb.score(X_train, Y_train))\n",
    "print(\"R^2 for train set is: %.6f\" % xgb.score(X_test, Y_test))"
   ]
  },
  {
   "cell_type": "markdown",
   "metadata": {},
   "source": [
    "##### Errors for Xgboost Model"
   ]
  },
  {
   "cell_type": "code",
   "execution_count": 13,
   "metadata": {},
   "outputs": [
    {
     "name": "stdout",
     "output_type": "stream",
     "text": [
      "Mean Squared Error:  0.000124\n",
      "Root Mean Squared Error:  0.01114\n",
      "Mean Absolute Error:  76533.267\n",
      "Mean Absolute Percent Error:  47.742\n"
     ]
    }
   ],
   "source": [
    "# Prediction Errors\n",
    "\n",
    "xgb_prediction = xgb.predict(X_test)\n",
    "\n",
    "mse = mean_squared_error(Y_test, xgb_prediction)                     # Mean Squared Error\n",
    "abs_error = abs(np.expm1(xgb_prediction) - np.expm1(Y_test).values)  # Absolute errors\n",
    "mape = (abs_error / np.expm1(Y_test).values) * 100                   # Mean Absolute Percentage Error - MAPE\n",
    "\n",
    "print('Mean Squared Error: ', round(mse, 6))   #  MSE\n",
    "print('Root Mean Squared Error: ', round(np.sqrt(mse), 5))   #  RMSE\n",
    "print('Mean Absolute Error: ', round(np.mean(abs_error), 3))   #  MAE\n",
    "print('Mean Absolute Percent Error: ', round(np.mean(mape), 3))   #  MAPE\n"
   ]
  },
  {
   "cell_type": "markdown",
   "metadata": {},
   "source": [
    "MSE of 0.013988 & RMSE of 0.11827"
   ]
  },
  {
   "cell_type": "markdown",
   "metadata": {},
   "source": [
    "#### Parameter Tuning"
   ]
  },
  {
   "cell_type": "code",
   "execution_count": 14,
   "metadata": {},
   "outputs": [
    {
     "name": "stdout",
     "output_type": "stream",
     "text": [
      "CPU times: user 5.5 s, sys: 84.8 ms, total: 5.59 s\n",
      "Wall time: 1min 59s\n"
     ]
    },
    {
     "data": {
      "text/plain": [
       "RandomizedSearchCV(cv=KFold(n_splits=5, random_state=1, shuffle=True),\n",
       "                   error_score='raise-deprecating',\n",
       "                   estimator=XGBRegressor(base_score=0.5, booster=None,\n",
       "                                          colsample_bylevel=1,\n",
       "                                          colsample_bynode=1,\n",
       "                                          colsample_bytree=1, gamma=0,\n",
       "                                          gpu_id=-1, importance_type='gain',\n",
       "                                          interaction_constraints=None,\n",
       "                                          learning_rate=0.300000012,\n",
       "                                          max_delta_step=0, max_depth=6,\n",
       "                                          min_child_weight...\n",
       "                                          validate_parameters=False,\n",
       "                                          verbosity=None),\n",
       "                   iid='warn', n_iter=10, n_jobs=-1,\n",
       "                   param_distributions={'learning_rate': [0.01, 0.02, 0.03,\n",
       "                                                          0.04, 0.05, 0.06,\n",
       "                                                          0.07, 0.08, 0.09,\n",
       "                                                          0.1],\n",
       "                                        'max_depth': range(2, 6),\n",
       "                                        'min_child_weight': range(4, 8),\n",
       "                                        'n_estimators': range(500, 1000, 50)},\n",
       "                   pre_dispatch='2*n_jobs', random_state=None, refit=True,\n",
       "                   return_train_score=True, scoring='neg_mean_squared_error',\n",
       "                   verbose=0)"
      ]
     },
     "execution_count": 14,
     "metadata": {},
     "output_type": "execute_result"
    }
   ],
   "source": [
    "xgb_param_grid = {'learning_rate' : [0.01, 0.02, 0.03, 0.04, 0.05, 0.06, 0.07, 0.08, 0.09, 0.1],\n",
    "                           'n_estimators' : range(500, 1000, 50),\n",
    "                            'max_depth' : range(2,6),\n",
    "                            'min_child_weight' : range(4,8)\n",
    "                           }\n",
    "\n",
    "# random_search_xgb_10 = RandomizedSearchCV(xgb, xgb_param_grid, scoring='neg_mean_squared_error', \n",
    "#                                      cv= cv10, n_jobs=-1, return_train_score = True)\n",
    "\n",
    "random_search_xgb_5 = RandomizedSearchCV(xgb, xgb_param_grid, scoring='neg_mean_squared_error', \n",
    "                                     cv= cv5, n_jobs=-1, return_train_score = True)\n",
    "\n",
    "# %time random_search_xgb_10.fit(X, Y)\n",
    "%time random_search_xgb_5.fit(X, Y)"
   ]
  },
  {
   "cell_type": "code",
   "execution_count": 15,
   "metadata": {},
   "outputs": [
    {
     "name": "stdout",
     "output_type": "stream",
     "text": [
      "R^2 for train set after 5-fold cv is: 0.987628\n",
      "R^2 for train set after 5-fold cv is: 0.989789\n"
     ]
    }
   ],
   "source": [
    "# Best parameters from Random Search\n",
    "# xgb_random10 = random_search_xgb_10.best_estimator_\n",
    "xgb_random5 = random_search_xgb_5.best_estimator_\n",
    "\n",
    "# Train and Test scores\n",
    "\n",
    "# print(\"R^2 for train set after 10-fold cv is: %.6f\" % xgb_random10.score(X_train, Y_train))  # 10 fold\n",
    "# print(\"R^2 for train set after 5-fold cv is: %.6f\" % xgb_random10.score(X_test, Y_test))    # 10 fold\n",
    "\n",
    "print(\"R^2 for train set after 5-fold cv is: %.6f\" % xgb_random5.score(X_train, Y_train))  # 5 fold\n",
    "print(\"R^2 for train set after 5-fold cv is: %.6f\" % xgb_random5.score(X_test, Y_test))     # 5 fold"
   ]
  },
  {
   "cell_type": "code",
   "execution_count": null,
   "metadata": {},
   "outputs": [],
   "source": [
    "# Since 10-fold cross validation doesn't improve the model R^2, then will stick to 5-folds"
   ]
  },
  {
   "cell_type": "markdown",
   "metadata": {},
   "source": [
    "##### Errors for Tuned Hyperparameters - Xgboost"
   ]
  },
  {
   "cell_type": "code",
   "execution_count": 16,
   "metadata": {},
   "outputs": [
    {
     "data": {
      "text/plain": [
       "RandomizedSearchCV(cv=KFold(n_splits=5, random_state=1, shuffle=True),\n",
       "                   error_score='raise-deprecating',\n",
       "                   estimator=XGBRegressor(base_score=0.5, booster=None,\n",
       "                                          colsample_bylevel=1,\n",
       "                                          colsample_bynode=1,\n",
       "                                          colsample_bytree=1, gamma=0,\n",
       "                                          gpu_id=-1, importance_type='gain',\n",
       "                                          interaction_constraints=None,\n",
       "                                          learning_rate=0.300000012,\n",
       "                                          max_delta_step=0, max_depth=6,\n",
       "                                          min_child_weight...\n",
       "                                          validate_parameters=False,\n",
       "                                          verbosity=None),\n",
       "                   iid='warn', n_iter=10, n_jobs=-1,\n",
       "                   param_distributions={'learning_rate': [0.01, 0.02, 0.03,\n",
       "                                                          0.04, 0.05, 0.06,\n",
       "                                                          0.07, 0.08, 0.09,\n",
       "                                                          0.1],\n",
       "                                        'max_depth': range(2, 6),\n",
       "                                        'min_child_weight': range(4, 8),\n",
       "                                        'n_estimators': range(500, 1000, 50)},\n",
       "                   pre_dispatch='2*n_jobs', random_state=None, refit=True,\n",
       "                   return_train_score=True, scoring='neg_mean_squared_error',\n",
       "                   verbose=0)"
      ]
     },
     "execution_count": 16,
     "metadata": {},
     "output_type": "execute_result"
    }
   ],
   "source": [
    "random_search_xgb_5"
   ]
  },
  {
   "cell_type": "code",
   "execution_count": 17,
   "metadata": {},
   "outputs": [
    {
     "name": "stdout",
     "output_type": "stream",
     "text": [
      "Mean Squared Error:  0.001536\n",
      "Root Mean Squared Error:  0.03919\n",
      "Mean Absolute Error:  76223.156\n",
      "Mean Absolute Percent Error:  47.433\n"
     ]
    }
   ],
   "source": [
    "xgb_prediction_random = xgb_random5.predict(X_test)\n",
    "\n",
    "mse = mean_squared_error(Y_test, xgb_prediction_random)                     # Mean Squared Error\n",
    "abs_error = abs(np.expm1(xgb_prediction_random) - np.expm1(Y_test).values)  # Absolute errors\n",
    "mape = (abs_error / np.expm1(Y_test).values) * 100                   # Mean Absolute Percentage Error - MAPE\n",
    "\n",
    "\n",
    "print('Mean Squared Error: ', round(mse, 6))   #  MSE\n",
    "print('Root Mean Squared Error: ', round(np.sqrt(mse), 5))   #  RMSE\n",
    "print('Mean Absolute Error: ', round(np.mean(abs_error), 3))   #  MAE\n",
    "print('Mean Absolute Percent Error: ', round(np.mean(mape), 3))   #  MAPE"
   ]
  },
  {
   "cell_type": "markdown",
   "metadata": {},
   "source": [
    "MSE of 0.012205 & RMSE of 0.11048"
   ]
  },
  {
   "cell_type": "markdown",
   "metadata": {},
   "source": [
    "##### Plotting of Predictions"
   ]
  },
  {
   "cell_type": "code",
   "execution_count": 32,
   "metadata": {},
   "outputs": [
    {
     "data": {
      "image/png": "[encoded data removed]",
      "text/plain": [
       "<Figure size 432x576 with 1 Axes>"
      ]
     },
     "metadata": {},
     "output_type": "display_data"
    }
   ],
   "source": [
    "y_train_xgboost = xgb_random5.predict(X_train)\n",
    "y_test_xgboost = xgb_random5.predict(X_test)\n",
    "\n",
    "sns.set(font_scale = 1.5) #Added\n",
    "plt.figure(figsize=(6,8)) #Changed size\n",
    "\n",
    "plt.scatter(np.expm1(y_train_xgboost), np.expm1(Y_train), c='Blue', s=15, marker=\"o\", label = \"Train Set\")\n",
    "plt.scatter(np.expm1(y_test_xgboost), np.expm1(Y_test), c='Red', s=15, marker='*', label = \"Test Set\")\n",
    "\n",
    "plt.title(\"XGBoost Train-Test Split Prediction\\n\", fontsize = 'large', weight = 'bold') #Changed\n",
    "\n",
    "plt.xlabel(\"Predicted SalePrice\")\n",
    "plt.ylabel(\"Actual SalePrice\")\n",
    "\n",
    "plt.xlim(0, 700000)\n",
    "plt.ylim(0, 700000)\n",
    "plt.legend(loc = \"center right\")\n",
    "plt.plot([0, 700000], [0, 700000], c = \"grey\")\n",
    "plt.show()"
   ]
  },
  {
   "cell_type": "markdown",
   "metadata": {},
   "source": [
    "##### Predict Final SalePrice using Xgboost"
   ]
  },
  {
   "cell_type": "code",
   "execution_count": 63,
   "metadata": {},
   "outputs": [],
   "source": [
    "# using best xgboost model with random search of 5-fold cv to predict the SalePrice for the test set\n",
    "xgb_ytest = xgb_random5.predict(df_test)\n"
   ]
  },
  {
   "cell_type": "code",
   "execution_count": 65,
   "metadata": {},
   "outputs": [
    {
     "data": {
      "text/plain": [
       "(1459,)"
      ]
     },
     "execution_count": 65,
     "metadata": {},
     "output_type": "execute_result"
    }
   ],
   "source": [
    "np.expm1(xgb_ytest).shape"
   ]
  },
  {
   "cell_type": "code",
   "execution_count": 67,
   "metadata": {},
   "outputs": [],
   "source": [
    "df_test_Id = pd.read_csv(\"output_df_test.csv\").Id"
   ]
  },
  {
   "cell_type": "code",
   "execution_count": 69,
   "metadata": {},
   "outputs": [
    {
     "data": {
      "text/html": [
       "<div>\n",
       "<style scoped>\n",
       "    .dataframe tbody tr th:only-of-type {\n",
       "        vertical-align: middle;\n",
       "    }\n",
       "\n",
       "    .dataframe tbody tr th {\n",
       "        vertical-align: top;\n",
       "    }\n",
       "\n",
       "    .dataframe thead th {\n",
       "        text-align: right;\n",
       "    }\n",
       "</style>\n",
       "<table border=\"1\" class=\"dataframe\">\n",
       "  <thead>\n",
       "    <tr style=\"text-align: right;\">\n",
       "      <th></th>\n",
       "      <th>Id</th>\n",
       "      <th>SalePrice</th>\n",
       "    </tr>\n",
       "  </thead>\n",
       "  <tbody>\n",
       "    <tr>\n",
       "      <th>1454</th>\n",
       "      <td>2915</td>\n",
       "      <td>72762.320312</td>\n",
       "    </tr>\n",
       "    <tr>\n",
       "      <th>1455</th>\n",
       "      <td>2916</td>\n",
       "      <td>80449.148438</td>\n",
       "    </tr>\n",
       "    <tr>\n",
       "      <th>1456</th>\n",
       "      <td>2917</td>\n",
       "      <td>162143.390625</td>\n",
       "    </tr>\n",
       "    <tr>\n",
       "      <th>1457</th>\n",
       "      <td>2918</td>\n",
       "      <td>119325.429688</td>\n",
       "    </tr>\n",
       "    <tr>\n",
       "      <th>1458</th>\n",
       "      <td>2919</td>\n",
       "      <td>229480.859375</td>\n",
       "    </tr>\n",
       "  </tbody>\n",
       "</table>\n",
       "</div>"
      ],
      "text/plain": [
       "        Id      SalePrice\n",
       "1454  2915   72762.320312\n",
       "1455  2916   80449.148438\n",
       "1456  2917  162143.390625\n",
       "1457  2918  119325.429688\n",
       "1458  2919  229480.859375"
      ]
     },
     "execution_count": 69,
     "metadata": {},
     "output_type": "execute_result"
    }
   ],
   "source": [
    "xgb_best_prediction = pd.DataFrame(data = (np.expm1(xgb_ytest)), columns = ['SalePrice'])\n",
    "xgb_predicted_SalePrice = pd.concat([df_test_Id , xgb_best_prediction], axis = 1)\n",
    "xgb_predicted_SalePrice.tail(5)"
   ]
  },
  {
   "cell_type": "markdown",
   "metadata": {},
   "source": [
    "##### Final SalePrice Prediction for Kaggle Score"
   ]
  },
  {
   "cell_type": "code",
   "execution_count": 70,
   "metadata": {},
   "outputs": [],
   "source": [
    "xgb_predicted_SalePrice.to_csv('xgb_SalePrice.csv', index = False)"
   ]
  }
 ],
 "metadata": {
  "kernelspec": {
   "display_name": "Python 3",
   "language": "python",
   "name": "python3"
  },
  "language_info": {
   "codemirror_mode": {
    "name": "ipython",
    "version": 3
   },
   "file_extension": ".py",
   "mimetype": "text/x-python",
   "name": "python",
   "nbconvert_exporter": "python",
   "pygments_lexer": "ipython3",
   "version": "3.7.4"
  }
 },
 "nbformat": 4,
 "nbformat_minor": 2
}
